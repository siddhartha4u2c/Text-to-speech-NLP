{
 "cells": [
  {
   "cell_type": "code",
   "execution_count": 3,
   "metadata": {},
   "outputs": [],
   "source": [
    "import nltk"
   ]
  },
  {
   "cell_type": "code",
   "execution_count": 4,
   "metadata": {},
   "outputs": [],
   "source": [
    "import nltk.corpus"
   ]
  },
  {
   "cell_type": "code",
   "execution_count": null,
   "metadata": {},
   "outputs": [],
   "source": [
    "#Tokenization"
   ]
  },
  {
   "cell_type": "code",
   "execution_count": 10,
   "metadata": {},
   "outputs": [],
   "source": [
    "from nltk.tokenize import word_tokenize"
   ]
  },
  {
   "cell_type": "code",
   "execution_count": 9,
   "metadata": {},
   "outputs": [],
   "source": [
    "chess = \"Samay Raina is the best chess streamer in the world\""
   ]
  },
  {
   "cell_type": "code",
   "execution_count": 11,
   "metadata": {},
   "outputs": [
    {
     "data": {
      "text/plain": [
       "['Samay',\n",
       " 'Raina',\n",
       " 'is',\n",
       " 'the',\n",
       " 'best',\n",
       " 'chess',\n",
       " 'streamer',\n",
       " 'in',\n",
       " 'the',\n",
       " 'world']"
      ]
     },
     "execution_count": 11,
     "metadata": {},
     "output_type": "execute_result"
    }
   ],
   "source": [
    "word_tokenize(chess)"
   ]
  },
  {
   "cell_type": "code",
   "execution_count": 5,
   "metadata": {},
   "outputs": [],
   "source": [
    "#sentence tokenizer\n",
    "from nltk.tokenize import sent_tokenize"
   ]
  },
  {
   "cell_type": "code",
   "execution_count": 7,
   "metadata": {},
   "outputs": [],
   "source": [
    "chess2 = \"Samay Raina is the best chess streamer in the world. Sagar Shah is the best chess coach in the world\""
   ]
  },
  {
   "cell_type": "code",
   "execution_count": 8,
   "metadata": {},
   "outputs": [
    {
     "data": {
      "text/plain": [
       "['Samay Raina is the best chess streamer in the world.',\n",
       " 'Sagar Shah is the best chess coach in the world']"
      ]
     },
     "execution_count": 8,
     "metadata": {},
     "output_type": "execute_result"
    }
   ],
   "source": [
    "sent_tokenize(chess2)"
   ]
  },
  {
   "cell_type": "code",
   "execution_count": 12,
   "metadata": {},
   "outputs": [
    {
     "data": {
      "text/plain": [
       "10"
      ]
     },
     "execution_count": 12,
     "metadata": {},
     "output_type": "execute_result"
    }
   ],
   "source": [
    "#Checking the number of tokens\n",
    "len(word_tokenize(chess))"
   ]
  },
  {
   "cell_type": "code",
   "execution_count": null,
   "metadata": {},
   "outputs": [],
   "source": [
    "#bigrams and n-grams"
   ]
  },
  {
   "cell_type": "code",
   "execution_count": 13,
   "metadata": {},
   "outputs": [],
   "source": [
    "astronaut = \"Can anybody hear me or am I talking to myself? My mind is running empty in the search for someone else\""
   ]
  },
  {
   "cell_type": "code",
   "execution_count": 14,
   "metadata": {},
   "outputs": [],
   "source": [
    "astronaut_token=(word_tokenize(astronaut))"
   ]
  },
  {
   "cell_type": "code",
   "execution_count": 15,
   "metadata": {},
   "outputs": [
    {
     "data": {
      "text/plain": [
       "[('Can', 'anybody'),\n",
       " ('anybody', 'hear'),\n",
       " ('hear', 'me'),\n",
       " ('me', 'or'),\n",
       " ('or', 'am'),\n",
       " ('am', 'I'),\n",
       " ('I', 'talking'),\n",
       " ('talking', 'to'),\n",
       " ('to', 'myself'),\n",
       " ('myself', '?'),\n",
       " ('?', 'My'),\n",
       " ('My', 'mind'),\n",
       " ('mind', 'is'),\n",
       " ('is', 'running'),\n",
       " ('running', 'empty'),\n",
       " ('empty', 'in'),\n",
       " ('in', 'the'),\n",
       " ('the', 'search'),\n",
       " ('search', 'for'),\n",
       " ('for', 'someone'),\n",
       " ('someone', 'else')]"
      ]
     },
     "execution_count": 15,
     "metadata": {},
     "output_type": "execute_result"
    }
   ],
   "source": [
    "list(nltk.bigrams(astronaut_token))"
   ]
  },
  {
   "cell_type": "code",
   "execution_count": 16,
   "metadata": {},
   "outputs": [
    {
     "data": {
      "text/plain": [
       "[('Can', 'anybody', 'hear'),\n",
       " ('anybody', 'hear', 'me'),\n",
       " ('hear', 'me', 'or'),\n",
       " ('me', 'or', 'am'),\n",
       " ('or', 'am', 'I'),\n",
       " ('am', 'I', 'talking'),\n",
       " ('I', 'talking', 'to'),\n",
       " ('talking', 'to', 'myself'),\n",
       " ('to', 'myself', '?'),\n",
       " ('myself', '?', 'My'),\n",
       " ('?', 'My', 'mind'),\n",
       " ('My', 'mind', 'is'),\n",
       " ('mind', 'is', 'running'),\n",
       " ('is', 'running', 'empty'),\n",
       " ('running', 'empty', 'in'),\n",
       " ('empty', 'in', 'the'),\n",
       " ('in', 'the', 'search'),\n",
       " ('the', 'search', 'for'),\n",
       " ('search', 'for', 'someone'),\n",
       " ('for', 'someone', 'else')]"
      ]
     },
     "execution_count": 16,
     "metadata": {},
     "output_type": "execute_result"
    }
   ],
   "source": [
    "list(nltk.trigrams(astronaut_token))"
   ]
  },
  {
   "cell_type": "code",
   "execution_count": 17,
   "metadata": {},
   "outputs": [
    {
     "data": {
      "text/plain": [
       "[('Can', 'anybody', 'hear', 'me', 'or'),\n",
       " ('anybody', 'hear', 'me', 'or', 'am'),\n",
       " ('hear', 'me', 'or', 'am', 'I'),\n",
       " ('me', 'or', 'am', 'I', 'talking'),\n",
       " ('or', 'am', 'I', 'talking', 'to'),\n",
       " ('am', 'I', 'talking', 'to', 'myself'),\n",
       " ('I', 'talking', 'to', 'myself', '?'),\n",
       " ('talking', 'to', 'myself', '?', 'My'),\n",
       " ('to', 'myself', '?', 'My', 'mind'),\n",
       " ('myself', '?', 'My', 'mind', 'is'),\n",
       " ('?', 'My', 'mind', 'is', 'running'),\n",
       " ('My', 'mind', 'is', 'running', 'empty'),\n",
       " ('mind', 'is', 'running', 'empty', 'in'),\n",
       " ('is', 'running', 'empty', 'in', 'the'),\n",
       " ('running', 'empty', 'in', 'the', 'search'),\n",
       " ('empty', 'in', 'the', 'search', 'for'),\n",
       " ('in', 'the', 'search', 'for', 'someone'),\n",
       " ('the', 'search', 'for', 'someone', 'else')]"
      ]
     },
     "execution_count": 17,
     "metadata": {},
     "output_type": "execute_result"
    }
   ],
   "source": [
    "list(nltk.ngrams(astronaut_token,5))"
   ]
  },
  {
   "cell_type": "code",
   "execution_count": null,
   "metadata": {},
   "outputs": [],
   "source": [
    "#Stemming"
   ]
  },
  {
   "cell_type": "code",
   "execution_count": 18,
   "metadata": {},
   "outputs": [],
   "source": [
    "from nltk.stem import PorterStemmer"
   ]
  },
  {
   "cell_type": "code",
   "execution_count": 19,
   "metadata": {},
   "outputs": [],
   "source": [
    "my_stem = PorterStemmer()"
   ]
  },
  {
   "cell_type": "code",
   "execution_count": 20,
   "metadata": {},
   "outputs": [
    {
     "data": {
      "text/plain": [
       "'eat'"
      ]
     },
     "execution_count": 20,
     "metadata": {},
     "output_type": "execute_result"
    }
   ],
   "source": [
    "my_stem.stem(\"eating\")"
   ]
  },
  {
   "cell_type": "code",
   "execution_count": 21,
   "metadata": {},
   "outputs": [
    {
     "data": {
      "text/plain": [
       "'go'"
      ]
     },
     "execution_count": 21,
     "metadata": {},
     "output_type": "execute_result"
    }
   ],
   "source": [
    "my_stem.stem(\"going\")"
   ]
  },
  {
   "cell_type": "code",
   "execution_count": 22,
   "metadata": {},
   "outputs": [
    {
     "data": {
      "text/plain": [
       "'shop'"
      ]
     },
     "execution_count": 22,
     "metadata": {},
     "output_type": "execute_result"
    }
   ],
   "source": [
    "my_stem.stem(\"shopping\")"
   ]
  },
  {
   "cell_type": "code",
   "execution_count": null,
   "metadata": {},
   "outputs": [],
   "source": [
    "#pos-tagging"
   ]
  },
  {
   "cell_type": "code",
   "execution_count": 23,
   "metadata": {},
   "outputs": [],
   "source": [
    "tom =\"Tom Hanks is the best actor in the world\""
   ]
  },
  {
   "cell_type": "code",
   "execution_count": 24,
   "metadata": {},
   "outputs": [],
   "source": [
    "tom_token = word_tokenize(tom)"
   ]
  },
  {
   "cell_type": "code",
   "execution_count": 25,
   "metadata": {},
   "outputs": [
    {
     "data": {
      "text/plain": [
       "[('Tom', 'NNP'),\n",
       " ('Hanks', 'NNP'),\n",
       " ('is', 'VBZ'),\n",
       " ('the', 'DT'),\n",
       " ('best', 'JJS'),\n",
       " ('actor', 'NN'),\n",
       " ('in', 'IN'),\n",
       " ('the', 'DT'),\n",
       " ('world', 'NN')]"
      ]
     },
     "execution_count": 25,
     "metadata": {},
     "output_type": "execute_result"
    }
   ],
   "source": [
    "nltk.pos_tag(tom_token)"
   ]
  },
  {
   "cell_type": "code",
   "execution_count": null,
   "metadata": {},
   "outputs": [],
   "source": [
    "#Named entity recognition"
   ]
  },
  {
   "cell_type": "code",
   "execution_count": 36,
   "metadata": {},
   "outputs": [],
   "source": [
    "from nltk import ne_chunk"
   ]
  },
  {
   "cell_type": "code",
   "execution_count": 37,
   "metadata": {},
   "outputs": [],
   "source": [
    "president = \"Barack Obama was the 44th President of America\""
   ]
  },
  {
   "cell_type": "code",
   "execution_count": 28,
   "metadata": {},
   "outputs": [],
   "source": [
    "president_token = word_tokenize(president)"
   ]
  },
  {
   "cell_type": "code",
   "execution_count": 31,
   "metadata": {},
   "outputs": [],
   "source": [
    "president_pos = nltk.pos_tag(president_token)"
   ]
  },
  {
   "cell_type": "code",
   "execution_count": 33,
   "metadata": {},
   "outputs": [
    {
     "data": {
      "text/plain": [
       "[('Barack', 'NNP'),\n",
       " ('Obama', 'NNP'),\n",
       " ('was', 'VBD'),\n",
       " ('the', 'DT'),\n",
       " ('44th', 'JJ'),\n",
       " ('President', 'NNP'),\n",
       " ('of', 'IN'),\n",
       " ('America', 'NNP')]"
      ]
     },
     "execution_count": 33,
     "metadata": {},
     "output_type": "execute_result"
    }
   ],
   "source": [
    "president_pos"
   ]
  },
  {
   "cell_type": "code",
   "execution_count": null,
   "metadata": {},
   "outputs": [],
   "source": []
  },
  {
   "cell_type": "code",
   "execution_count": null,
   "metadata": {},
   "outputs": [],
   "source": [
    "from gtts import gTTS\n",
    "from IPython.display import Audio\n",
    "tts = gTTS('Hello Atul, How are ')\n",
    "tts.save('1.wav')\n",
    "sound_file = '1.wav'\n",
    "Audio(sound_file, autoplay=True)"
   ]
  },
  {
   "cell_type": "code",
   "execution_count": 2,
   "metadata": {},
   "outputs": [
    {
     "data": {
      "text/html": [
       "\n",
       "                <audio  controls=\"controls\" autoplay=\"autoplay\">\n",
       "                    <source src=\"data:audio/wav;base64,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\" type=\"audio/wav\" />\n",
       "                    Your browser does not support the audio element.\n",
       "                </audio>\n",
       "              "
      ],
      "text/plain": [
       "<IPython.lib.display.Audio object>"
      ]
     },
     "execution_count": 2,
     "metadata": {},
     "output_type": "execute_result"
    }
   ],
   "source": [
    "from gtts import gTTS\n",
    "from IPython.display import Audio\n",
    "tts = gTTS('Hi Siddhartha,tomorrow office is there ')\n",
    "tts.save('1.wav')\n",
    "sound_file = '1.wav'\n",
    "Audio(sound_file, autoplay=True)"
   ]
  },
  {
   "cell_type": "code",
   "execution_count": null,
   "metadata": {},
   "outputs": [],
   "source": []
  }
 ],
 "metadata": {
  "kernelspec": {
   "display_name": "Python 3",
   "language": "python",
   "name": "python3"
  },
  "language_info": {
   "codemirror_mode": {
    "name": "ipython",
    "version": 3
   },
   "file_extension": ".py",
   "mimetype": "text/x-python",
   "name": "python",
   "nbconvert_exporter": "python",
   "pygments_lexer": "ipython3",
   "version": "3.6.5"
  }
 },
 "nbformat": 4,
 "nbformat_minor": 2
}
